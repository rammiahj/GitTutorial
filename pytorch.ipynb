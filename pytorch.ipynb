{
  "nbformat": 4,
  "nbformat_minor": 0,
  "metadata": {
    "colab": {
      "name": "pytorch.ipynb",
      "provenance": [],
      "collapsed_sections": [],
      "mount_file_id": "1vT1r-zQzfl1jdpcIHLb_BpzjO81J5vfx",
      "authorship_tag": "ABX9TyO3Fm8/PDAxbfoZ6zK8OWqZ",
      "include_colab_link": true
    },
    "kernelspec": {
      "display_name": "Python 3",
      "name": "python3"
    },
    "language_info": {
      "name": "python"
    }
  },
  "cells": [
    {
      "cell_type": "markdown",
      "metadata": {
        "id": "view-in-github",
        "colab_type": "text"
      },
      "source": [
        "<a href=\"https://colab.research.google.com/github/rammiahj/GitTutorial/blob/master/pytorch.ipynb\" target=\"_parent\"><img src=\"https://colab.research.google.com/assets/colab-badge.svg\" alt=\"Open In Colab\"/></a>"
      ]
    },
    {
      "cell_type": "code",
      "metadata": {
        "id": "0l1p0BkFPGoj"
      },
      "source": [
        "import numpy as np\n",
        "import torch\n",
        "import torch.nn as nn\n",
        "import torch.nn.functional as F\n",
        "from PIL import Image, ImageDraw\n",
        "from torchvision import datasets, transforms, models\n",
        "from torch.utils.data import DataLoader\n",
        "import matplotlib.pyplot as plt\n",
        "import os\n",
        "import cv2\n",
        "from PIL import Image\n",
        "import torch.optim as optim\n",
        "import torchvision\n",
        "import glob\n"
      ],
      "execution_count": null,
      "outputs": []
    },
    {
      "cell_type": "code",
      "metadata": {
        "colab": {
          "base_uri": "https://localhost:8080/"
        },
        "id": "vxCWhOq4RfOX",
        "outputId": "ed7be9cd-b55a-4eb9-a52b-a96dac43a2e5"
      },
      "source": [
        "#Dataloader\n",
        "\n",
        "#Path for training and testing directory\n",
        "train_img='/content/drive/MyDrive/ASLO/training'\n",
        "test_img='/content/drive/MyDrive/ASLO/testing'\n",
        "\n",
        "train_loader=DataLoader(\n",
        "    torchvision.datasets.ImageFolder(train_img,transform=transformer),\n",
        "    batch_size=64, shuffle=True\n",
        ")\n",
        "test_loader=DataLoader(\n",
        "    torchvision.datasets.ImageFolder(test_img,transform=transformer),\n",
        "    batch_size=32, shuffle=True\n",
        ")\n",
        "print(f\"Train Classes : {len(train_img)}\")\n",
        "print(f\"Test Classes : {len(test_img)}\")"
      ],
      "execution_count": null,
      "outputs": [
        {
          "output_type": "stream",
          "text": [
            "Train Classes : 36\n",
            "Test Classes : 35\n"
          ],
          "name": "stdout"
        }
      ]
    },
    {
      "cell_type": "code",
      "metadata": {
        "colab": {
          "base_uri": "https://localhost:8080/"
        },
        "id": "6eobiU5TAd35",
        "outputId": "7b7ca914-aefd-4fe1-8404-141a98ed4c04"
      },
      "source": [
        "#calculating the size of training and testing images\n",
        "train_count=len(glob.glob(train_img+'/**/*.tif'))\n",
        "test_count=len(glob.glob(test_img+'/**/*.tif'))\n",
        "\n",
        "print(train_count,test_count)"
      ],
      "execution_count": null,
      "outputs": [
        {
          "output_type": "stream",
          "text": [
            "3300 3310\n"
          ],
          "name": "stdout"
        }
      ]
    },
    {
      "cell_type": "code",
      "metadata": {
        "colab": {
          "base_uri": "https://localhost:8080/"
        },
        "id": "sUCNaHGkSYmR",
        "outputId": "00c12802-f523-4a1b-e3a2-79798d9c89bb"
      },
      "source": [
        "#checking for device\n",
        "device=torch.device('cuda' if torch.cuda.is_available() else 'cpu')\n",
        "\n",
        "#print device\n",
        "print('Using device : ',device)"
      ],
      "execution_count": null,
      "outputs": [
        {
          "output_type": "stream",
          "text": [
            "Using device :  cpu\n"
          ],
          "name": "stdout"
        }
      ]
    },
    {
      "cell_type": "code",
      "metadata": {
        "colab": {
          "base_uri": "https://localhost:8080/"
        },
        "id": "y4QRX9YISp48",
        "outputId": "fc386c31-4b81-461e-aca1-3b91b6c38373"
      },
      "source": [
        "!wget https://download.pytorch.org/models/resnet50-0676ba61.pth \n",
        "model = models.resnet50()\n",
        "model.load_state_dict(torch.load('resnet50-0676ba61.pth'))\n",
        "\n",
        "for param in model.parameters(): #Freezing the model\n",
        "  param.requires_grad = False\n",
        "\n",
        "model.fc = torch.nn.Linear(in_features=2048, out_features=22, bias=True)\n",
        "#model.fc.weight.requires_grad=True\n",
        "\n",
        "model=model.to(device)"
      ],
      "execution_count": null,
      "outputs": [
        {
          "output_type": "stream",
          "text": [
            "--2021-06-21 09:39:01--  https://download.pytorch.org/models/resnet50-0676ba61.pth\n",
            "Resolving download.pytorch.org (download.pytorch.org)... 13.226.50.98, 13.226.50.24, 13.226.50.77, ...\n",
            "Connecting to download.pytorch.org (download.pytorch.org)|13.226.50.98|:443... connected.\n",
            "HTTP request sent, awaiting response... 200 OK\n",
            "Length: 102530333 (98M) [application/x-www-form-urlencoded]\n",
            "Saving to: ‘resnet50-0676ba61.pth’\n",
            "\n",
            "resnet50-0676ba61.p 100%[===================>]  97.78M   119MB/s    in 0.8s    \n",
            "\n",
            "2021-06-21 09:39:02 (119 MB/s) - ‘resnet50-0676ba61.pth’ saved [102530333/102530333]\n",
            "\n"
          ],
          "name": "stdout"
        }
      ]
    },
    {
      "cell_type": "code",
      "metadata": {
        "id": "llHr6IfcM5Hl"
      },
      "source": [
        "#Optimizer and Loss function\n",
        "criterian = nn.CrossEntropyLoss() #CrossEntropyLoss for classification problem\n",
        "optimizer = optim.Adam(model.parameters(), lr=0.001, weight_decay=1e-5) #lr and weight_decay are hyper parameters "
      ],
      "execution_count": null,
      "outputs": []
    },
    {
      "cell_type": "code",
      "metadata": {
        "colab": {
          "base_uri": "https://localhost:8080/"
        },
        "id": "1RF_vhOl1HfB",
        "outputId": "9e48860c-add5-4616-88dc-5229de06aa85"
      },
      "source": [
        "#Model training and saving best model\n",
        "\n",
        "best_accuracy=0.0\n",
        "\n",
        "for epoch in range(10):\n",
        "    \n",
        "    #Evaluation and training on training dataset\n",
        "    model.train()\n",
        "    train_accuracy=0.0\n",
        "    train_loss=0.0\n",
        "    \n",
        "    for i, (images,labels) in enumerate(train_loader):\n",
        "        if torch.cuda.is_available():\n",
        "            images=Variable(images.cuda())\n",
        "            labels=Variable(labels.cuda())\n",
        "            \n",
        "        optimizer.zero_grad()\n",
        "        \n",
        "        outputs=model(images)\n",
        "        loss=criterian(outputs,labels)\n",
        "        loss.backward()\n",
        "        optimizer.step()\n",
        "        \n",
        "        \n",
        "        train_loss+= loss.cpu().data*images.size(0)\n",
        "        _,prediction=torch.max(outputs.data,1)\n",
        "        \n",
        "        train_accuracy+=int(torch.sum(prediction==labels.data))\n",
        "        \n",
        "    train_accuracy=train_accuracy/train_count\n",
        "    train_loss=train_loss/train_count\n",
        "\n",
        "    # Evaluation on testing dataset\n",
        "    #with torch.no_grad():\n",
        "    model.eval()  \n",
        "    test_accuracy=0.0\n",
        "\n",
        "    for i, (images,labels) in enumerate(test_loader):\n",
        "      if torch.cuda.is_available():\n",
        "          images=Variable(images.cpu())\n",
        "          labels=Variable(labels.cpu())\n",
        "            \n",
        "      outputs=model(images)\n",
        "      _,prediction=torch.max(outputs.data,1)\n",
        "      test_accuracy+=int(torch.sum(prediction==labels.data))\n",
        "    \n",
        "    test_accuracy=test_accuracy/test_count\n",
        "    \n",
        "    \n",
        "    \n",
        "    print('Epoch: '+str(epoch)+' Train Loss: '+str(train_loss)+' Train Accuracy: '+str(train_accuracy)+' Test Accuracy: '+str(test_accuracy))\n",
        "\n",
        "print(\"Finished Training and Testing\")"
      ],
      "execution_count": null,
      "outputs": [
        {
          "output_type": "stream",
          "text": [
            "Epoch: 0 Train Loss: tensor(0.6297) Train Accuracy: 0.8375757575757575 Test Accuracy: 0.8429003021148036\n",
            "Epoch: 1 Train Loss: tensor(0.4986) Train Accuracy: 0.8648484848484849 Test Accuracy: 0.8465256797583082\n",
            "Epoch: 2 Train Loss: tensor(0.4074) Train Accuracy: 0.8860606060606061 Test Accuracy: 0.8625377643504532\n",
            "Epoch: 3 Train Loss: tensor(0.3440) Train Accuracy: 0.9121212121212121 Test Accuracy: 0.8622356495468277\n",
            "Epoch: 4 Train Loss: tensor(0.3222) Train Accuracy: 0.9087878787878788 Test Accuracy: 0.8628398791540786\n",
            "Epoch: 5 Train Loss: tensor(0.2775) Train Accuracy: 0.9248484848484848 Test Accuracy: 0.86797583081571\n",
            "Epoch: 6 Train Loss: tensor(0.2715) Train Accuracy: 0.926060606060606 Test Accuracy: 0.8649546827794562\n",
            "Epoch: 7 Train Loss: tensor(0.2517) Train Accuracy: 0.9293939393939394 Test Accuracy: 0.8558912386706948\n",
            "Epoch: 8 Train Loss: tensor(0.2457) Train Accuracy: 0.9336363636363636 Test Accuracy: 0.8694864048338369\n",
            "Epoch: 9 Train Loss: tensor(0.2077) Train Accuracy: 0.9424242424242424 Test Accuracy: 0.8712990936555891\n",
            "Finished Training and Testing\n"
          ],
          "name": "stdout"
        }
      ]
    }
  ]
}