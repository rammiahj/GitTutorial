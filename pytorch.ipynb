{
  "nbformat": 4,
  "nbformat_minor": 0,
  "metadata": {
    "colab": {
      "name": "pytorch.ipynb",
      "provenance": [],
      "collapsed_sections": [],
      "mount_file_id": "1vT1r-zQzfl1jdpcIHLb_BpzjO81J5vfx",
      "authorship_tag": "ABX9TyM/Wj+lPAGZzrPMrhXFpf3B",
      "include_colab_link": true
    },
    "kernelspec": {
      "display_name": "Python 3",
      "name": "python3"
    },
    "language_info": {
      "name": "python"
    }
  },
  "cells": [
    {
      "cell_type": "markdown",
      "metadata": {
        "id": "view-in-github",
        "colab_type": "text"
      },
      "source": [
        "<a href=\"https://colab.research.google.com/github/rammiahj/GitTutorial/blob/master/pytorch.ipynb\" target=\"_parent\"><img src=\"https://colab.research.google.com/assets/colab-badge.svg\" alt=\"Open In Colab\"/></a>"
      ]
    },
    {
      "cell_type": "code",
      "metadata": {
        "id": "0l1p0BkFPGoj"
      },
      "source": [
        "import numpy as np\n",
        "import torch\n",
        "import torch.nn as nn\n",
        "import torch.nn.functional as F\n",
        "from PIL import Image, ImageDraw\n",
        "from torchvision import datasets, transforms, models\n",
        "from torch.utils.data import DataLoader\n",
        "import matplotlib.pyplot as plt\n",
        "import os\n",
        "import cv2\n",
        "from PIL import Image\n",
        "import torch.optim as optim\n",
        "import torchvision\n",
        "import glob\n"
      ],
      "execution_count": null,
      "outputs": []
    },
    {
      "cell_type": "code",
      "metadata": {
        "id": "FgqGgOIMGRiu"
      },
      "source": [
        "#Transforms\n",
        "transformer=transforms.Compose([\n",
        "    transforms.Resize((150,150)),\n",
        "    #transforms.RandomHorizontalFlip(),\n",
        "    transforms.ToTensor(),  #0-255 to 0-1, numpy to tensors\n",
        "    transforms.Normalize([0.5,0.5,0.5], # 0-1 to [-1,1] , formula (x-mean)/std\n",
        "                        [0.5,0.5,0.5])\n",
        "])"
      ],
      "execution_count": null,
      "outputs": []
    },
    {
      "cell_type": "code",
      "metadata": {
        "colab": {
          "base_uri": "https://localhost:8080/"
        },
        "id": "vxCWhOq4RfOX",
        "outputId": "c7924c04-c2c1-4aa7-ea24-6d1463def848"
      },
      "source": [
        "#Dataloader\n",
        "\n",
        "#Path for training and testing directory\n",
        "train_img='/content/drive/MyDrive/ASLO/training'\n",
        "test_img='/content/drive/MyDrive/ASLO/testing'\n",
        "\n",
        "train_loader=DataLoader(\n",
        "    torchvision.datasets.ImageFolder(train_img,transform=transformer),\n",
        "    batch_size=64, shuffle=True\n",
        ")\n",
        "test_loader=DataLoader(\n",
        "    torchvision.datasets.ImageFolder(test_img,transform=transformer),\n",
        "    batch_size=32, shuffle=True\n",
        ")\n",
        "print(f\"Train Classes : {len(train_img)}\")\n",
        "print(f\"Test Classes : {len(test_img)}\")"
      ],
      "execution_count": null,
      "outputs": [
        {
          "output_type": "stream",
          "text": [
            "Train Classes : 36\n",
            "Test Classes : 35\n"
          ],
          "name": "stdout"
        }
      ]
    },
    {
      "cell_type": "code",
      "metadata": {
        "colab": {
          "base_uri": "https://localhost:8080/"
        },
        "id": "6eobiU5TAd35",
        "outputId": "6ef35d1b-d833-4508-b8fc-cad4cd9028ce"
      },
      "source": [
        "#calculating the size of training and testing images\n",
        "train_count=len(glob.glob(train_img+'/**/*.tif'))\n",
        "test_count=len(glob.glob(test_img+'/**/*.tif'))\n",
        "\n",
        "print(train_count,test_count)"
      ],
      "execution_count": null,
      "outputs": [
        {
          "output_type": "stream",
          "text": [
            "3300 3310\n"
          ],
          "name": "stdout"
        }
      ]
    },
    {
      "cell_type": "code",
      "metadata": {
        "colab": {
          "base_uri": "https://localhost:8080/"
        },
        "id": "sUCNaHGkSYmR",
        "outputId": "ef9e397e-3400-4cdd-8b8f-1ad79caf3fd1"
      },
      "source": [
        "#checking for device\n",
        "device=torch.device('cuda' if torch.cuda.is_available() else 'cpu')\n",
        "\n",
        "#print device\n",
        "print('Using device : ',device)"
      ],
      "execution_count": null,
      "outputs": [
        {
          "output_type": "stream",
          "text": [
            "Using device :  cpu\n"
          ],
          "name": "stdout"
        }
      ]
    },
    {
      "cell_type": "code",
      "metadata": {
        "colab": {
          "base_uri": "https://localhost:8080/"
        },
        "id": "y4QRX9YISp48",
        "outputId": "c6a044be-e2a5-4a27-d203-913f62d403c1"
      },
      "source": [
        "!wget https://download.pytorch.org/models/resnet50-0676ba61.pth \n",
        "model = models.resnet50()\n",
        "model.load_state_dict(torch.load('resnet50-0676ba61.pth'))\n",
        "\n",
        "for param in model.parameters(): #Freezing the model\n",
        "  param.requires_grad = False\n",
        "\n",
        "model.fc = torch.nn.Linear(in_features=2048, out_features=22, bias=True)\n",
        "#model.fc.weight.requires_grad=True\n",
        "\n",
        "model=model.to(device)"
      ],
      "execution_count": null,
      "outputs": [
        {
          "output_type": "stream",
          "text": [
            "--2021-07-08 03:02:33--  https://download.pytorch.org/models/resnet50-0676ba61.pth\n",
            "Resolving download.pytorch.org (download.pytorch.org)... 13.226.36.99, 13.226.36.97, 13.226.36.52, ...\n",
            "Connecting to download.pytorch.org (download.pytorch.org)|13.226.36.99|:443... connected.\n",
            "HTTP request sent, awaiting response... 200 OK\n",
            "Length: 102530333 (98M) [application/x-www-form-urlencoded]\n",
            "Saving to: ‘resnet50-0676ba61.pth’\n",
            "\n",
            "resnet50-0676ba61.p 100%[===================>]  97.78M  21.6MB/s    in 4.4s    \n",
            "\n",
            "2021-07-08 03:02:38 (22.2 MB/s) - ‘resnet50-0676ba61.pth’ saved [102530333/102530333]\n",
            "\n"
          ],
          "name": "stdout"
        }
      ]
    },
    {
      "cell_type": "code",
      "metadata": {
        "id": "llHr6IfcM5Hl"
      },
      "source": [
        "#Optimizer and Loss function\n",
        "criterian = nn.CrossEntropyLoss() #CrossEntropyLoss for classification problem\n",
        "optimizer = optim.Adam(model.parameters(), lr=0.001, weight_decay=1e-5) #lr and weight_decay are hyper parameters "
      ],
      "execution_count": null,
      "outputs": []
    },
    {
      "cell_type": "code",
      "metadata": {
        "colab": {
          "base_uri": "https://localhost:8080/"
        },
        "id": "1RF_vhOl1HfB",
        "outputId": "583fcfb5-1f85-4613-beaa-90508c656554"
      },
      "source": [
        "#Model training and saving best model\n",
        "\n",
        "best_accuracy=0.0\n",
        "\n",
        "for epoch in range(20):\n",
        "    \n",
        "    #Evaluation and training on training dataset\n",
        "    model.train()\n",
        "    train_accuracy=0.0\n",
        "    train_loss=0.0\n",
        "    \n",
        "    for i, (images,labels) in enumerate(train_loader):\n",
        "        if torch.cuda.is_available():\n",
        "            images=Variable(images.cuda())\n",
        "            labels=Variable(labels.cuda())\n",
        "            \n",
        "        optimizer.zero_grad()\n",
        "        \n",
        "        outputs=model(images)\n",
        "        loss=criterian(outputs,labels)\n",
        "        loss.backward()\n",
        "        optimizer.step()\n",
        "        \n",
        "        \n",
        "        train_loss+= loss.cpu().data*images.size(0)\n",
        "        _,prediction=torch.max(outputs.data,1)\n",
        "        \n",
        "        train_accuracy+=int(torch.sum(prediction==labels.data))\n",
        "        \n",
        "    train_accuracy=train_accuracy/train_count\n",
        "    train_loss=train_loss/train_count\n",
        "\n",
        "    # Evaluation on testing dataset\n",
        "    #with torch.no_grad():\n",
        "    model.eval()  \n",
        "    test_accuracy=0.0\n",
        "\n",
        "    for i, (images,labels) in enumerate(test_loader):\n",
        "      if torch.cuda.is_available():\n",
        "          images=Variable(images.cpu())\n",
        "          labels=Variable(labels.cpu())\n",
        "            \n",
        "      outputs=model(images)\n",
        "      _,prediction=torch.max(outputs.data,1)\n",
        "      test_accuracy+=int(torch.sum(prediction==labels.data))\n",
        "    \n",
        "    test_accuracy=test_accuracy/test_count\n",
        "    \n",
        "    \n",
        "    \n",
        "    print('Epoch: '+str(epoch)+' Train Loss: '+str(train_loss)+' Train Accuracy: '+str(train_accuracy)+' Test Accuracy: '+str(test_accuracy))\n",
        "\n",
        "print(\"Finished Training and Testing\")"
      ],
      "execution_count": null,
      "outputs": [
        {
          "output_type": "stream",
          "text": [
            "Epoch: 0 Train Loss: tensor(0.8221) Train Accuracy: 0.7981818181818182 Test Accuracy: 0.793655589123867\n",
            "Epoch: 1 Train Loss: tensor(0.5585) Train Accuracy: 0.8490909090909091 Test Accuracy: 0.8492447129909365\n",
            "Epoch: 2 Train Loss: tensor(0.4571) Train Accuracy: 0.8815151515151515 Test Accuracy: 0.8531722054380665\n",
            "Epoch: 3 Train Loss: tensor(0.3868) Train Accuracy: 0.8918181818181818 Test Accuracy: 0.8525679758308157\n",
            "Epoch: 4 Train Loss: tensor(0.3471) Train Accuracy: 0.9012121212121212 Test Accuracy: 0.8577039274924472\n",
            "Epoch: 5 Train Loss: tensor(0.3221) Train Accuracy: 0.9112121212121213 Test Accuracy: 0.8661631419939577\n",
            "Epoch: 6 Train Loss: tensor(0.2852) Train Accuracy: 0.9209090909090909 Test Accuracy: 0.8661631419939577\n",
            "Epoch: 7 Train Loss: tensor(0.2654) Train Accuracy: 0.9221212121212121 Test Accuracy: 0.8676737160120845\n",
            "Epoch: 8 Train Loss: tensor(0.2405) Train Accuracy: 0.9345454545454546 Test Accuracy: 0.8716012084592145\n",
            "Epoch: 9 Train Loss: tensor(0.2309) Train Accuracy: 0.9366666666666666 Test Accuracy: 0.877643504531722\n",
            "Epoch: 10 Train Loss: tensor(0.2154) Train Accuracy: 0.94 Test Accuracy: 0.8643504531722055\n",
            "Epoch: 11 Train Loss: tensor(0.2058) Train Accuracy: 0.9421212121212121 Test Accuracy: 0.8767371601208459\n",
            "Epoch: 12 Train Loss: tensor(0.1894) Train Accuracy: 0.9481818181818182 Test Accuracy: 0.8761329305135952\n",
            "Epoch: 13 Train Loss: tensor(0.1724) Train Accuracy: 0.9551515151515152 Test Accuracy: 0.8725075528700906\n",
            "Epoch: 14 Train Loss: tensor(0.1661) Train Accuracy: 0.953939393939394 Test Accuracy: 0.8688821752265861\n",
            "Epoch: 15 Train Loss: tensor(0.1698) Train Accuracy: 0.956060606060606 Test Accuracy: 0.8709969788519637\n",
            "Epoch: 16 Train Loss: tensor(0.1641) Train Accuracy: 0.9584848484848485 Test Accuracy: 0.8758308157099698\n",
            "Epoch: 17 Train Loss: tensor(0.1436) Train Accuracy: 0.9618181818181818 Test Accuracy: 0.8743202416918429\n",
            "Epoch: 18 Train Loss: tensor(0.1360) Train Accuracy: 0.9648484848484848 Test Accuracy: 0.8722054380664652\n",
            "Epoch: 19 Train Loss: tensor(0.1318) Train Accuracy: 0.9651515151515152 Test Accuracy: 0.8731117824773413\n",
            "Finished Training and Testing\n"
          ],
          "name": "stdout"
        }
      ]
    }
  ]
}